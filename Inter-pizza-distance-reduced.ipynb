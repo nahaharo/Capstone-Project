{
 "cells": [
  {
   "cell_type": "markdown",
   "metadata": {},
   "source": [
    "# Estimate different of inter-pizza shop distance distribution between NewYork and Toronto."
   ]
  },
  {
   "cell_type": "markdown",
   "metadata": {},
   "source": [
    "## Introduction"
   ]
  },
  {
   "cell_type": "markdown",
   "metadata": {},
   "source": [
    "Inter-pizza shop distance is important factor for pizza shop and it's users. In perspective of owner of pizzashop, lower value of mean inter-pizza shop distance can be reduce the profit of pizza shop due to competitor. However, in customer's perspective, lower value could provide more option to customers. Therefore, getting distribution of inter-pizza distance distribution is important either owners and customers. In this project, we will get this distribution and comparing it between NewYork and Toronto and check that where has more great pizza shop infrastructure."
   ]
  },
  {
   "cell_type": "markdown",
   "metadata": {},
   "source": [
    "## Data\n",
    "\n",
    "Our data is consist of...\n",
    "\n",
    "- Geolocation data of NewYork and Toronto\n",
    "- Venue information retrived from Foursquare\n",
    "\n",
    "From this data, first, we will extract neighboorhoods and use it to query venues. Second, based on data from Foursquare, calculating top 5 distance from location of pizza shop. Finally, based on this distances, draw histogram and calculate statistical variables and comparing it between NewYork and Toronto."
   ]
  },
  {
   "cell_type": "code",
   "execution_count": null,
   "metadata": {},
   "outputs": [],
   "source": []
  }
 ],
 "metadata": {
  "kernelspec": {
   "display_name": "Python 3",
   "language": "python",
   "name": "python3"
  },
  "language_info": {
   "codemirror_mode": {
    "name": "ipython",
    "version": 3
   },
   "file_extension": ".py",
   "mimetype": "text/x-python",
   "name": "python",
   "nbconvert_exporter": "python",
   "pygments_lexer": "ipython3",
   "version": "3.8.3"
  }
 },
 "nbformat": 4,
 "nbformat_minor": 4
}
