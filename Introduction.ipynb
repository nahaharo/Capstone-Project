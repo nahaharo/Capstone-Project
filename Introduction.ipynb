{
 "cells": [
  {
   "cell_type": "markdown",
   "metadata": {},
   "source": [
    "# Comparing distribution of distances between pizza shops at NewYork and Toronto"
   ]
  },
  {
   "cell_type": "markdown",
   "metadata": {},
   "source": [
    "## Introduction"
   ]
  },
  {
   "cell_type": "markdown",
   "metadata": {},
   "source": [
    "For shop owners, distances between the same category of stores which can be regarded as competitors is important because it could affect the profit of store. Therefore, calculating the distribution of distance between competitors allow owners to recognize the competition between same category of stores. This project is focused on estimating distribution of distances between pizza shops and comparing this distribution on NewYork and Toronto. As conclusion, this project shows that which NewYork or Toronto is better for pizza shops."
   ]
  },
  {
   "cell_type": "markdown",
   "metadata": {},
   "source": [
    "## Data\n",
    "\n",
    "Our data is consist of two components. First, geolocation data of NewYork and Toronto. And second, Venue information retrived from Foursquare.\n",
    "\n",
    "Geolocation data are consist of following columns: Neighborhood, Latitude, Longitude.\n",
    "\n",
    "Venue information is consist of following columns: \tNeighborhood information(Name, Latitude, Longitude), Venue name and category, Latitude and Longitude of Venue. \n",
    "\n",
    "From this data, first, we will extract neighboorhoods and use it to query venues. Second, based on the data from Foursquare, calculating top 5 distance from location of pizza shop. Finally, based on this distances, draw histogram and calculate statistical variables and comparing it between NewYork and Toronto."
   ]
  }
 ],
 "metadata": {
  "kernelspec": {
   "display_name": "Python 3",
   "language": "python",
   "name": "python3"
  },
  "language_info": {
   "codemirror_mode": {
    "name": "ipython",
    "version": 3
   },
   "file_extension": ".py",
   "mimetype": "text/x-python",
   "name": "python",
   "nbconvert_exporter": "python",
   "pygments_lexer": "ipython3",
   "version": "3.8.3"
  }
 },
 "nbformat": 4,
 "nbformat_minor": 4
}
